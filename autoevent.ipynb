{
 "cells": [
  {
   "cell_type": "markdown",
   "id": "0486c19a-dcf7-475d-b337-a7a498947720",
   "metadata": {},
   "source": [
    "# Autoscale Events"
   ]
  },
  {
   "cell_type": "markdown",
   "id": "f36b9dce-7210-49b5-bc77-6d182a9234f1",
   "metadata": {},
   "source": [
    "I am downloading *Current GWs and SWGs-data* and *Scale Events* from the Grafana AutoScaling Dashboard\n",
    "\n",
    "The *Scale Events* is the only file used in this script"
   ]
  },
  {
   "cell_type": "code",
   "execution_count": null,
   "id": "4b967046-311b-4339-bf9b-3b3fdc4c6bbb",
   "metadata": {},
   "outputs": [],
   "source": [
    "import warnings\n",
    "import numpy as np\n",
    "import pandas as pd\n",
    "from datetime import datetime\n",
    "import matplotlib.pyplot as plt\n",
    "import re\n",
    "from datetime import timedelta"
   ]
  },
  {
   "cell_type": "code",
   "execution_count": null,
   "id": "984806b1-b879-4718-92b9-0a81e41dc918",
   "metadata": {},
   "outputs": [],
   "source": [
    "warnings.filterwarnings(\"ignore\")\n",
    "%matplotlib inline"
   ]
  },
  {
   "cell_type": "code",
   "execution_count": null,
   "id": "79be7bd4-0364-4ab0-95f2-829ceededc1d",
   "metadata": {},
   "outputs": [],
   "source": [
    "day_of_the_week = {0:\"Monday\", 1:\"Tuesday\", 2:\"Wednesday\", 3:\"Thursday\", 4:\"Friday\", 5:\"Saturday\", 6:\"Sunday\"}\n",
    "pa_regions = {200:\"us-west-2\", 201:\"us-west-201\", 210:\"ap-south-1\", 212:\"eu-west-2\", 213:\"eu-central-1\", 214:\"us-east-1\", 407:\"us-south\"}"
   ]
  },
  {
   "cell_type": "code",
   "execution_count": null,
   "id": "b83aae53-70dd-434f-a9b6-bd34735171d0",
   "metadata": {},
   "outputs": [],
   "source": [
    "def get_vmid(astring):\n",
    "    \"\"\"\n",
    "    Return the digits in ASTRING\n",
    "    \"\"\"\n",
    "    try:\n",
    "        vmid = re.findall(r'\\d+', astring)\n",
    "        if len(vmid) > 0:\n",
    "            return vmid[0].strip()\n",
    "    except TypeError:\n",
    "        return None"
   ]
  },
  {
   "cell_type": "code",
   "execution_count": null,
   "id": "224e6ee0-13b3-4dcb-bfc3-75eee81e1dbe",
   "metadata": {},
   "outputs": [],
   "source": [
    "def get_reason(astring):\n",
    "    '''\n",
    "    Return characters in ASTRING after Issue description\n",
    "    '''\n",
    "    try:\n",
    "        reason = re.findall(r'metrics\\s+(\\w+)', astring)\n",
    "        if len(reason) > 0:\n",
    "            return reason[0].strip()\n",
    "    except TypeError:\n",
    "        return None"
   ]
  },
  {
   "cell_type": "code",
   "execution_count": null,
   "id": "0b4ab05a-6f9f-40d6-b52d-53288237c6d1",
   "metadata": {},
   "outputs": [],
   "source": [
    "def select_created_deleted(astring):\n",
    "    \"\"\"\n",
    "    Return 2 if the ASTRING is a created event or 1 if it is a deleted\n",
    "    If it is not either created or deleted, returns 0\n",
    "    \"\"\"\n",
    "    if 'created' in astring:\n",
    "        return 2\n",
    "    if 'deleted' in astring:\n",
    "        return 1\n",
    "    else:\n",
    "        return 0"
   ]
  },
  {
   "cell_type": "code",
   "execution_count": null,
   "id": "f3101196-8a58-4505-9e50-a4103e02b055",
   "metadata": {},
   "outputs": [],
   "source": [
    "# The only file needed for the script is the Scale Events from Grafana\n",
    "sca_ev = pd.read_csv(\n",
    "    \"Scale Events (Last 1000)-data-2024-03-05 21_57_29.csv\",\n",
    "    usecols=['create_time', 'scale_type', 'region', 'trigger_reason', 'comments', 'workflow_id'],\n",
    "    parse_dates=['create_time'])"
   ]
  },
  {
   "cell_type": "code",
   "execution_count": null,
   "id": "8d831c36-014c-4baf-a622-6d8bda93bdab",
   "metadata": {},
   "outputs": [],
   "source": [
    "# classify the type of actions on instances between create, delete or other\n",
    "sca_ev['action'] = sca_ev['comments'].apply(select_created_deleted)"
   ]
  },
  {
   "cell_type": "code",
   "execution_count": null,
   "id": "681e56e4-1c50-4c36-b2ea-03e079ba5b22",
   "metadata": {},
   "outputs": [],
   "source": [
    "# select only columns of interest\n",
    "sca_ev = sca_ev[['create_time', 'region', 'comments', 'action', 'trigger_reason']]"
   ]
  },
  {
   "cell_type": "code",
   "execution_count": null,
   "id": "08d4fe62-6769-4c40-8eb0-587068acc17b",
   "metadata": {},
   "outputs": [],
   "source": [
    "sca_ev = sca_ev.sort_values(by=[\"create_time\"])"
   ]
  },
  {
   "cell_type": "code",
   "execution_count": null,
   "id": "6b57e1ed-d483-493c-9612-6df8a12188f6",
   "metadata": {},
   "outputs": [],
   "source": [
    "sca_ev"
   ]
  },
  {
   "cell_type": "code",
   "execution_count": null,
   "id": "f4e1bf1c-ff68-451c-ab32-eca22a3944e0",
   "metadata": {},
   "outputs": [],
   "source": [
    "# I am not resetting the index on the time series but rather creating additional columns for date and time\n",
    "sca_ev['date'] = sca_ev[\"create_time\"].apply(lambda x: x.date())\n",
    "sca_ev['time'] = sca_ev[\"create_time\"].apply(lambda x: x.time())"
   ]
  },
  {
   "cell_type": "code",
   "execution_count": null,
   "id": "94bdd776-f6b9-4c70-ac91-b8c62c9e14d2",
   "metadata": {},
   "outputs": [],
   "source": [
    "# remove weird events that are not created or deleted\n",
    "# extract vmid and trigger reason \n",
    "sca_ev = sca_ev.loc[(sca_ev[\"action\"] != 0),:]\n",
    "sca_ev['vmid'] = sca_ev['comments'].apply(get_vmid)\n",
    "sca_ev['reason'] = sca_ev['trigger_reason'].apply(get_reason)\n",
    "sca_ev"
   ]
  },
  {
   "cell_type": "code",
   "execution_count": null,
   "id": "6f4953af-4c08-4cab-a710-02416f326f40",
   "metadata": {},
   "outputs": [],
   "source": [
    "# vmid are created every time a GW is spun off and sorting by that number helps id events\n",
    "sca_ev = sca_ev.sort_values(by=['vmid']).reset_index(drop=True)"
   ]
  },
  {
   "cell_type": "code",
   "execution_count": null,
   "id": "a668c48b-98e4-4f56-945c-20198bf239ac",
   "metadata": {},
   "outputs": [],
   "source": [
    "# create a new data frame with the duration, vmid, reason and date for each completed autoscale\n",
    "i = 0\n",
    "autoscale = pd.DataFrame(columns=[\"duration\", \"vmid\", \"region\", \"date\", \"reason\"])\n",
    "\n",
    "while i < sca_ev.shape[0] - 1:\n",
    "    vmid = sca_ev.iloc[i, 7]\n",
    "    if sca_ev.iloc[i + 1, 7] == vmid:\n",
    "        if sca_ev.iloc[i,3] == 2:\n",
    "            autoscale.loc[i] = (sca_ev.iloc[i+1,0] - sca_ev.iloc[i,0], sca_ev.iloc[i,7], \n",
    "                                sca_ev.iloc[i,1], sca_ev.iloc[i,5], sca_ev.iloc[i,8])\n",
    "        else:\n",
    "            autoscale.loc[i] = (sca_ev.iloc[i,0] - sca_ev.iloc[i+1,0], sca_ev.iloc[i,7], \n",
    "                                sca_ev.iloc[i,1], sca_ev.iloc[i,5], sca_ev.iloc[i,8])\n",
    "        i += 2    \n",
    "    else:\n",
    "        i += 1"
   ]
  },
  {
   "cell_type": "code",
   "execution_count": null,
   "id": "9e4a8bf9-22e6-4dd0-bb10-23f59815134a",
   "metadata": {},
   "outputs": [],
   "source": [
    "# sorting the new dataframe by date\n",
    "autoscale = autoscale.sort_values(by=[\"date\"], ascending=False).reset_index(drop=True)\n",
    "autoscale[\"year\"] = autoscale[\"date\"].apply(lambda x: x.year)\n",
    "autoscale[\"month\"] = autoscale[\"date\"].apply(lambda x: x.month)\n",
    "autoscale[\"day\"] = autoscale[\"date\"].apply(lambda x: x.day)\n",
    "autoscale[\"weekday\"] = autoscale[\"date\"].apply(lambda x: x.weekday())\n",
    "autoscale[\"autohours\"] = autoscale[\"duration\"].apply(lambda x: x.total_seconds() // 3600)"
   ]
  },
  {
   "cell_type": "code",
   "execution_count": null,
   "id": "800f32a9-37c5-4cc6-a2c4-978b3f7c5d89",
   "metadata": {},
   "outputs": [],
   "source": [
    "# filtering by events from 2024\n",
    "autoscale2024 = autoscale.loc[(autoscale[\"year\"] >= 2024),:]\n",
    "autoscale2024.replace({'region': pa_regions}, inplace=True)\n",
    "autoscale2024.replace({'weekday': day_of_the_week}, inplace=True)\n",
    "autoscale2024"
   ]
  },
  {
   "cell_type": "code",
   "execution_count": null,
   "id": "5ebd07a7-6477-4e39-ab56-9bd24880bb92",
   "metadata": {},
   "outputs": [],
   "source": [
    "# summarizing the events\n",
    "autoscale2024.groupby(by=[\"region\"]).agg(\n",
    "    count = pd.NamedAgg(\"region\", aggfunc=\"count\"))"
   ]
  },
  {
   "cell_type": "code",
   "execution_count": null,
   "id": "a87f995d-9841-4b12-bbeb-faae9587505c",
   "metadata": {},
   "outputs": [],
   "source": [
    "autoscale2024[\"region\"].unique()"
   ]
  },
  {
   "cell_type": "code",
   "execution_count": null,
   "id": "93f0dacb-f88e-4291-99ab-00dca170d6cf",
   "metadata": {},
   "outputs": [],
   "source": [
    "fig, ax = plt.subplots(figsize=(16, 5))\n",
    "ax.plot(autoscale2024.loc[(autoscale2024[\"region\"] == \"eu-west-2\"), :][\"date\"], \n",
    "        autoscale2024.loc[(autoscale2024[\"region\"] == \"eu-west-2\"), :][\"autohours\"], 'bo', label=\"eu-west-2\")\n",
    "ax.plot(autoscale2024.loc[(autoscale2024[\"region\"] == \"ap-south-1\"), :][\"date\"], \n",
    "        autoscale2024.loc[(autoscale2024[\"region\"] == \"ap-south-1\"), :][\"autohours\"], 'go', label=\"ap-south-1\")\n",
    "\n",
    "ax.legend()\n",
    "ax.grid(ls='--')\n",
    "\n",
    "fontdict_title = {'fontsize': 'x-large',\n",
    " 'fontweight': 'regular',\n",
    " 'color': 'salmon',\n",
    " 'verticalalignment': 'baseline',\n",
    " 'horizontalalignment': 'center'}\n",
    "\n",
    "fontdict_x = {'fontsize': 'large',\n",
    " 'fontweight': 'regular',\n",
    " 'color': 'navy',\n",
    " 'verticalalignment': 'top',\n",
    " 'horizontalalignment': 'center'}\n",
    "\n",
    "fontdict_y = {'fontsize': 'large',\n",
    " 'fontweight': 'regular',\n",
    " 'color': 'navy',\n",
    " 'verticalalignment': 'bottom',\n",
    " 'horizontalalignment': 'center'}\n",
    "\n",
    "\n",
    "ax.set_title(\"AutoScale Events\", fontdict=fontdict_title)\n",
    "ax.set_xlabel(\"Date\", fontdict=fontdict_x)\n",
    "ax.set_ylabel(\"Hours of Active AutoScale\", fontdict=fontdict_y)\n",
    "\n",
    "\n",
    "fig.savefig(\"autoscaleRegion.png\")\n",
    "\n"
   ]
  },
  {
   "cell_type": "code",
   "execution_count": null,
   "id": "2a9a486a-6875-41df-9927-ab6d09808745",
   "metadata": {},
   "outputs": [],
   "source": [
    "# summarizing the events\n",
    "autoscale2024.groupby(by=[\"reason\"]).agg(\n",
    "    count = pd.NamedAgg(\"reason\", aggfunc=\"count\"))"
   ]
  },
  {
   "cell_type": "code",
   "execution_count": null,
   "id": "54813340-8837-472f-89c8-a9b974e7d77c",
   "metadata": {},
   "outputs": [],
   "source": [
    "fig, ax = plt.subplots(figsize=(16, 5))\n",
    "ax.plot(autoscale2024.loc[(autoscale2024[\"reason\"] == \"expected_dcpu\"), :][\"date\"], \n",
    "        autoscale2024.loc[(autoscale2024[\"reason\"] == \"expected_dcpu\"), :][\"autohours\"], 'bo', label=\"expected_dcpu\")\n",
    "ax.plot(autoscale2024.loc[(autoscale2024[\"reason\"] == \"user_count\"), :][\"date\"], \n",
    "        autoscale2024.loc[(autoscale2024[\"reason\"] == \"user_count\"), :][\"autohours\"], 'go', label=\"user_count\")\n",
    "\n",
    "ax.legend()\n",
    "ax.grid(ls='--')\n",
    "\n",
    "fontdict_title = {'fontsize': 'x-large',\n",
    " 'fontweight': 'regular',\n",
    " 'color': 'salmon',\n",
    " 'verticalalignment': 'baseline',\n",
    " 'horizontalalignment': 'center'}\n",
    "\n",
    "fontdict_x = {'fontsize': 'large',\n",
    " 'fontweight': 'regular',\n",
    " 'color': 'navy',\n",
    " 'verticalalignment': 'top',\n",
    " 'horizontalalignment': 'center'}\n",
    "\n",
    "fontdict_y = {'fontsize': 'large',\n",
    " 'fontweight': 'regular',\n",
    " 'color': 'navy',\n",
    " 'verticalalignment': 'bottom',\n",
    " 'horizontalalignment': 'center'}\n",
    "\n",
    "\n",
    "ax.set_title(\"AutoScale Events\", fontdict=fontdict_title)\n",
    "ax.set_xlabel(\"Date\", fontdict=fontdict_x)\n",
    "ax.set_ylabel(\"Hours of Active AutoScale\", fontdict=fontdict_y)\n",
    "\n",
    "\n",
    "fig.savefig(\"autoscaleReason.png\")\n",
    "\n"
   ]
  },
  {
   "cell_type": "code",
   "execution_count": null,
   "id": "93c900e1-d24a-4ee3-8ea4-321af998a4a9",
   "metadata": {},
   "outputs": [],
   "source": [
    "summary_reason = autoscale2024.groupby(by=[\"region\", \"reason\"]).agg(\n",
    "    count = pd.NamedAgg(\"reason\", aggfunc=\"count\"))"
   ]
  },
  {
   "cell_type": "code",
   "execution_count": null,
   "id": "26d0d085-efc5-4d08-9ef2-314417313609",
   "metadata": {},
   "outputs": [],
   "source": [
    "summary_reason"
   ]
  },
  {
   "cell_type": "code",
   "execution_count": null,
   "id": "fae5d448-5d6b-49f8-8abd-2ea980c6bb57",
   "metadata": {},
   "outputs": [],
   "source": [
    "summary_reason.to_excel(\"summary_reason.xlsx\")"
   ]
  },
  {
   "cell_type": "code",
   "execution_count": null,
   "id": "027fe5d3-ffbf-4527-8c66-3a48b5f49891",
   "metadata": {},
   "outputs": [],
   "source": [
    "autoscale2024[\"autohours\"].mean()"
   ]
  },
  {
   "cell_type": "code",
   "execution_count": null,
   "id": "29d3ad25-6a10-48c0-a65c-bbee37469f3c",
   "metadata": {},
   "outputs": [],
   "source": [
    "fig, ax = plt.subplots(figsize=(16, 5))\n",
    "x = autoscale2024['weekday']\n",
    "y = autoscale2024['autohours']\n",
    "ax.scatter(x, y)\n",
    "\n",
    "ax.grid(ls='--')\n",
    "\n",
    "fontdict_title = {'fontsize': 'x-large',\n",
    " 'fontweight': 'regular',\n",
    " 'color': 'salmon',\n",
    " 'verticalalignment': 'baseline',\n",
    " 'horizontalalignment': 'center'}\n",
    "\n",
    "fontdict_x = {'fontsize': 'large',\n",
    " 'fontweight': 'regular',\n",
    " 'color': 'navy',\n",
    " 'verticalalignment': 'top',\n",
    " 'horizontalalignment': 'center'}\n",
    "\n",
    "fontdict_y = {'fontsize': 'large',\n",
    " 'fontweight': 'regular',\n",
    " 'color': 'navy',\n",
    " 'verticalalignment': 'bottom',\n",
    " 'horizontalalignment': 'center'}\n",
    "\n",
    "\n",
    "ax.set_title(\"AutoScale Events\", fontdict=fontdict_title)\n",
    "ax.set_xlabel(\"Day Of The Week\", fontdict=fontdict_x)\n",
    "ax.set_ylabel(\"Hours of Active AutoScale\", fontdict=fontdict_y)\n",
    "\n",
    "\n",
    "fig.savefig(\"autoscaleWeek.png\")\n",
    "\n"
   ]
  },
  {
   "cell_type": "code",
   "execution_count": null,
   "id": "bc9717be-bf78-44bf-9a14-b0e21503e671",
   "metadata": {},
   "outputs": [],
   "source": [
    "summary_days = autoscale2024.groupby(by=[\"weekday\"]).agg(\n",
    "    count = pd.NamedAgg(\"weekday\", aggfunc=\"count\"))\n",
    "summary_days"
   ]
  },
  {
   "cell_type": "code",
   "execution_count": null,
   "id": "27dcb675-1da0-42e5-a083-2e77071379dd",
   "metadata": {},
   "outputs": [],
   "source": [
    "summary_days.to_excel(\"summary_days.xlsx\")"
   ]
  },
  {
   "cell_type": "code",
   "execution_count": null,
   "id": "e29c958d-dbc0-459d-8c6b-d42ee7b7c814",
   "metadata": {},
   "outputs": [],
   "source": []
  },
  {
   "cell_type": "code",
   "execution_count": null,
   "id": "3b641428-4bdd-47ef-911c-c9d18d530418",
   "metadata": {},
   "outputs": [],
   "source": []
  },
  {
   "cell_type": "code",
   "execution_count": null,
   "id": "d899ea36-0183-4dbe-be12-daa4c7cf1e9a",
   "metadata": {},
   "outputs": [],
   "source": []
  }
 ],
 "metadata": {
  "kernelspec": {
   "display_name": "Python 3 (ipykernel)",
   "language": "python",
   "name": "python3"
  },
  "language_info": {
   "codemirror_mode": {
    "name": "ipython",
    "version": 3
   },
   "file_extension": ".py",
   "mimetype": "text/x-python",
   "name": "python",
   "nbconvert_exporter": "python",
   "pygments_lexer": "ipython3",
   "version": "3.11.5"
  }
 },
 "nbformat": 4,
 "nbformat_minor": 5
}
